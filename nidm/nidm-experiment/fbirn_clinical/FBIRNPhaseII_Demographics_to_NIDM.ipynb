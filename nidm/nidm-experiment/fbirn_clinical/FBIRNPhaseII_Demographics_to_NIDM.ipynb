{
 "cells": [
  {
   "cell_type": "markdown",
   "metadata": {},
   "source": [
    "#Import Python libraries\n",
    "##rdflib - https://pypi.python.org/pypi/rdflib"
   ]
  },
  {
   "cell_type": "code",
   "execution_count": 1,
   "metadata": {},
   "outputs": [],
   "source": [
    "import os\n",
    "import rdflib as rdf\n",
    "#import csv for reading csv files\n",
    "import csv"
   ]
  },
  {
   "cell_type": "markdown",
   "metadata": {},
   "source": [
    "#Create new RDF graph"
   ]
  },
  {
   "cell_type": "code",
   "execution_count": 2,
   "metadata": {},
   "outputs": [],
   "source": [
    "g = rdf.Graph()"
   ]
  },
  {
   "cell_type": "markdown",
   "metadata": {},
   "source": [
    "#Add namespaces\n",
    "## Add a namespace for each one in the object model"
   ]
  },
  {
   "cell_type": "code",
   "execution_count": 3,
   "metadata": {},
   "outputs": [],
   "source": [
    "nidm = rdf.Namespace(\"http://nidm.nidash.org/\")\n",
    "prov = rdf.Namespace(\"http://www.w3.org/ns/prov#\")\n",
    "ncit = rdf.Namespace(\"http://ncitt.ncit.nih.gov/\")\n",
    "nidash = rdf.Namespace(\"http://purl.org/nidash/nidm/\")\n",
    "fbirn = rdf.Namespace(\"http://www.birncommunity.org/collaborators/function-birn/\")\n",
    "list(g.namespaces())"
   ]
  },
  {
   "cell_type": "markdown",
   "metadata": {},
   "source": [
    "#Bind namespaces to graph"
   ]
  },
  {
   "cell_type": "code",
   "execution_count": 4,
   "metadata": {},
   "outputs": [],
   "source": [
    "g.bind('nidm', nidm)\n",
    "g.bind('prov', prov)\n",
    "g.bind('ncit', ncit)\n",
    "g.bind('nidash', nidash)\n",
    "g.bind('fbirn', fbirn)\n",
    "list(g.namespaces())"
   ]
  },
  {
   "cell_type": "markdown",
   "metadata": {},
   "source": [
    "    #Create function to create element nodes"
   ]
  },
  {
   "cell_type": "code",
   "execution_count": 5,
   "metadata": {},
   "outputs": [],
   "source": [
    "def nidm_add_elements(g,line,assessment_name):\n",
    "    #Create new node for each element with metadata consistent with NIDM-Experiment assessment acquistion\n",
    "    g.add((nidash[assessment_name+line[\"SCORENAME\"]], rdf.RDF.type, nidash[\"DataElement\"]))\n",
    "    g.add((nidash[assessment_name+line[\"SCORENAME\"]], rdf.RDF.type, rdf.RDF.Property))\n",
    "    g.add((nidash[assessment_name+line[\"SCORENAME\"]], rdf.RDF.type, rdf.RDF.Property))\n",
    "    g.add((nidash[assessment_name+line[\"SCORENAME\"]], prov[\"label\"], rdf.Literal(line[\"SCORENAME\"])))\n",
    "    g.add((nidash[assessment_name+line[\"SCORENAME\"]], nidash[\"DataType\"], rdf.Literal(line[\"SCORETYPE\"])))\n",
    "    g.add((nidash[assessment_name+line[\"SCORENAME\"]], nidash[\"Question\"], rdf.Literal(line[\"QUESTION\"])))\n",
    "    g.add((nidash[assessment_name+line[\"SCORENAME\"]], nidash[\"Sequence\"], rdf.Literal(line[\"SCORESEQ\"])))   \n",
    "    #make association with assessment\n",
    "    g.add((nidash[assessment_name],prov[\"hadMember\"], nidash[assessment_name+line[\"SCORENAME\"]]))"
   ]
  },
  {
   "cell_type": "code",
   "execution_count": 6,
   "metadata": {},
   "outputs": [],
   "source": [
    "def nidm_create_assessment(g, assessment_name):\n",
    "    g.add((nidash[assessment_name], rdf.RDF.type, nidash[\"DataStructure\"]))\n",
    "    g.add((nidash[assessment_name],prov[\"label\"],rdf.Literal(assessment_name)))"
   ]
  },
  {
   "cell_type": "code",
   "execution_count": 7,
   "metadata": {},
   "outputs": [],
   "source": [
    "def nidm_add_codedproperty(g,line,valueset_id, codedvalue_id):\n",
    "    g.add((nidash[codedvalue_id], rdf.RDF.type, nidash[\"CodedProperty\"]))\n",
    "    g.add((nidash[codedvalue_id], rdf.RDF.type, rdf.RDF.Property))\n",
    "    g.add((nidash[codedvalue_id],nidash[\"code\"], rdf.Literal(line[\"SCORECODE\"])))\n",
    "    g.add((nidash[codedvalue_id], prov[\"label\"], rdf.Literal(line[\"SCORELABEL\"])))\n",
    "    g.add((nidash[valueset_id], prov[\"hadMember\"], nidash[codedvalue_id]))"
   ]
  },
  {
   "cell_type": "markdown",
   "metadata": {},
   "source": [
    "#Read in CSV file and convert to RDF graph"
   ]
  },
  {
   "cell_type": "code",
   "execution_count": 8,
   "metadata": {},
   "outputs": [],
   "source": [
    "import pandas as pd\n",
    "xls = pd.ExcelFile(\"DEMOGRAPHICS_data_dictionary.xls\")\n",
    "variables = xls.parse(0)\n",
    "value_sets = xls.parse(1)\n",
    "#variables = pd.read_csv(\"FBIRNPhaseII_DEMOGRAPHICS_Variables.csv\")\n",
    "#value_sets = pd.read_csv(\"FBIRNPhaseII_DEMOGRAPHICS_ValueSets.csv\")\n",
    "assessment_name = \"FBIRNPhaseIIDemographics\"\n",
    "#iterate over the variables in the data dictionary\n",
    "for index, row in variables.iterrows():\n",
    "    #add elements to RDF graph for variable definitions\n",
    "    nidm_add_elements(g,row,assessment_name) \n",
    "    #print \"looking for \" + row['SCORENAME']\n",
    "    #look for value sets in data dictionary that match the variable\n",
    "    query_sets = value_sets[value_sets['SCORENAME'].str.contains(row['SCORENAME'])]\n",
    "    #iterate over the value set rows and add to RDF graph\n",
    "    for query_index, query_row in query_sets.iterrows():\n",
    "        #print query_row['SCORECODE'] + \",\" + query_row['SCORELABEL'] \n",
    "        #add attribute to coded data element for valueset\n",
    "        valueset_id = assessment_name+row[\"SCORENAME\"]+\"ValueSet\"\n",
    "        g.add((nidash[assessment_name+row[\"SCORENAME\"]], nidash[\"ValueSet\"], nidash[valueset_id]))\n",
    "        #create value set collection\n",
    "        g.add((nidash[valueset_id], rdf.RDF.type, prov[\"Collection\"]))\n",
    "        g.add((nidash[valueset_id], rdf.RDF.type, nidash[\"ValueSet\"]))\n",
    "        nidm_add_codedproperty(g, query_row, valueset_id ,row[\"SCORENAME\"] + \"_\" + query_row[\"SCORECODE\"] )"
   ]
  },
  {
   "cell_type": "code",
   "execution_count": 9,
   "metadata": {},
   "outputs": [],
   "source": [
    "print g.serialize(format='turtle')"
   ]
  },
  {
   "cell_type": "markdown",
   "metadata": {},
   "source": [
    "#Save RDF Turtle file to disk"
   ]
  },
  {
   "cell_type": "code",
   "execution_count": 10,
   "metadata": {},
   "outputs": [],
   "source": [
    "with open(\"FBIRNPhaseII_DEMOGRAPHICS_DataDictionary.ttl\",'w') as f:\n",
    "    f.write(g.serialize(format='turtle'))"
   ]
  },
  {
   "cell_type": "markdown",
   "metadata": {},
   "source": [
    "#Create RDF graph from DOT file"
   ]
  },
  {
   "cell_type": "code",
   "execution_count": 11,
   "metadata": {},
   "outputs": [],
   "source": [
    "from rdflib.tools import rdf2dot\n",
    "with open(\"FBIRNPhaseII_DEMOGRAPHICS_DataDictionary.dot\",'w') as f:\n",
    "    s = rdf2dot.rdf2dot(g, f)"
   ]
  },
  {
   "cell_type": "code",
   "execution_count": 12,
   "metadata": {},
   "outputs": [],
   "source": [
    "import pydot\n",
    "g = pydot.graph_from_dot_file(\"FBIRNPhaseII_DEMOGRAPHICS_DataDictionary.dot\")\n",
    "g.write_png('\"FBIRNPhaseII_DEMOGRAPHICS_DataDictionary.png')"
   ]
  },
  {
   "cell_type": "code",
   "execution_count": null,
   "metadata": {},
   "outputs": [],
   "source": [
    ""
   ]
  }
 ],
 "metadata": {
  "kernelspec": {
   "display_name": "Python 2",
   "language": "python",
   "name": "python2"
  },
  "language_info": {
   "codemirror_mode": {
    "name": "ipython",
    "version": 2.0
   },
   "file_extension": ".py",
   "mimetype": "text/x-python",
   "name": "python",
   "nbconvert_exporter": "python",
   "pygments_lexer": "ipython2",
   "version": "2.7.10"
  }
 },
 "nbformat": 4,
 "nbformat_minor": 0
}