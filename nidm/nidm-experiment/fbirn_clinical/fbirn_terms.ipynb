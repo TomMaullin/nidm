{
 "cells": [
  {
   "cell_type": "code",
   "execution_count": 9,
   "metadata": {},
   "outputs": [],
   "source": [
    "import os\n",
    "import rdflib as rdf"
   ]
  },
  {
   "cell_type": "code",
   "execution_count": 10,
   "metadata": {},
   "outputs": [],
   "source": [
    "#create graph\n",
    "g = rdf.Graph()"
   ]
  },
  {
   "cell_type": "code",
   "execution_count": 11,
   "metadata": {},
   "outputs": [],
   "source": [
    "#add namespaces\n",
    "nidm = rdf.Namespace(\"http://nidm.nidash.org/\")\n",
    "prov = rdf.Namespace(\"http://www.w3.org/ns/prov#\")\n",
    "ncit = rdf.Namespace(\"http://ncitt.ncit.nih.gov/\")\n",
    "nidash = rdf.Namespace(\"http://purl.org/nidash/nidm/\")\n",
    "fbirn = rdf.Namespace(\"http://www.birncommunity.org/collaborators/function-birn/\")"
   ]
  },
  {
   "cell_type": "code",
   "execution_count": 12,
   "metadata": {},
   "outputs": [],
   "source": [
    "g.bind('nidm', nidm)\n",
    "g.bind('prov', prov)\n",
    "g.bind('ncit', ncit)\n",
    "g.bind('nidash', nidash)\n",
    "g.bind('fbirn', fbirn)"
   ]
  },
  {
   "cell_type": "code",
   "execution_count": 13,
   "metadata": {},
   "outputs": [],
   "source": [
    "#create entities for term definitions\n",
    "g.add((nidash[\"entity_FSIQ\"], rdf.RDF.type, prov[\"Entity\"]))\n",
    "g.add((nidash[\"entity_FSIQ\"], fbirn[\"term\"], rdf.Literal(\"FSIQ\")))\n",
    "g.add((nidash[\"entity_FSIQ\"], prov[\"label\"], rdf.Literal(\"FBIRN vocabulary term\")))\n",
    "g.add((nidash[\"entity_FSIQ\"], prov[\"definition\"], rdf.Literal(\"Estimated Full Scale IQ = 127.8 - .78 * errors\")))\n",
    "g.add((nidash[\"entity_FSIQ\"], fbirn[\"form\"], rdf.Literal(\"North American Adult Reading Test (NAART)\")))"
   ]
  },
  {
   "cell_type": "code",
   "execution_count": 14,
   "metadata": {},
   "outputs": [],
   "source": [
    "g.add((nidash[\"entity_PIQ\"], rdf.RDF.type, prov[\"Entity\"]))\n",
    "g.add((nidash[\"entity_PIQ\"], fbirn[\"term\"], rdf.Literal(\"PIQ\")))\n",
    "g.add((nidash[\"entity_PIQ\"], prov[\"label\"], rdf.Literal(\"FBIRN vocabulary term\")))\n",
    "g.add((nidash[\"entity_PIQ\"], prov[\"definition\"], rdf.Literal(\"Estimated Performance IQ = 119.4 - .42 * errors\")))\n",
    "g.add((nidash[\"entity_PIQ\"], fbirn[\"form\"], rdf.Literal(\"North American Adult Reading Test (NAART)\")))"
   ]
  },
  {
   "cell_type": "code",
   "execution_count": 15,
   "metadata": {},
   "outputs": [],
   "source": [
    "g.add((nidash[\"entity_VIQ\"], rdf.RDF.type, prov[\"Entity\"]))\n",
    "g.add((nidash[\"entity_VIQ\"], fbirn[\"term\"], rdf.Literal(\"VIQ\")))\n",
    "g.add((nidash[\"entity_VIQ\"], prov[\"label\"], rdf.Literal(\"FBIRN vocabulary term\")))\n",
    "g.add((nidash[\"entity_VIQ\"], prov[\"definition\"], rdf.Literal(\"Estimated Verbal IQ = 128.7 - .89 * errors\")))\n",
    "g.add((nidash[\"entity_VIQ\"], fbirn[\"form\"], rdf.Literal(\"North American Adult Reading Test (NAART)\")))"
   ]
  },
  {
   "cell_type": "code",
   "execution_count": 16,
   "metadata": {},
   "outputs": [],
   "source": [
    "g.serialize(\"fbirn_terms.ttl\", format='turtle')"
   ]
  },
  {
   "cell_type": "code",
   "execution_count": null,
   "metadata": {},
   "outputs": [],
   "source": [
    ""
   ]
  }
 ],
 "metadata": {
  "kernelspec": {
   "display_name": "Python 2",
   "language": "python",
   "name": "python2"
  },
  "language_info": {
   "codemirror_mode": {
    "name": "ipython",
    "version": 2.0
   },
   "file_extension": ".py",
   "mimetype": "text/x-python",
   "name": "python",
   "nbconvert_exporter": "python",
   "pygments_lexer": "ipython2",
   "version": "2.7.10"
  }
 },
 "nbformat": 4,
 "nbformat_minor": 0
}