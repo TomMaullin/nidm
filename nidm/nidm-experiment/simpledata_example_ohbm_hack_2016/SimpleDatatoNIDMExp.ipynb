{
 "cells": [
  {
   "cell_type": "markdown",
   "metadata": {},
   "source": [
    "#Import Python libraries\n",
    "##rdflib - https://pypi.python.org/pypi/rdflib"
   ]
  },
  {
   "cell_type": "code",
   "execution_count": 1,
   "metadata": {
    "collapsed": true
   },
   "outputs": [],
   "source": [
    "import os\n",
    "import rdflib as rdf\n",
    "#import csv for reading csv files\n",
    "import csv\n",
    "from rdflib.namespace import XSD\n",
    "import pandas as pd\n",
    "import uuid"
   ]
  },
  {
   "cell_type": "markdown",
   "metadata": {},
   "source": [
    "#Create new RDF graph"
   ]
  },
  {
   "cell_type": "code",
   "execution_count": 2,
   "metadata": {
    "collapsed": true
   },
   "outputs": [],
   "source": [
    "g = rdf.Graph()"
   ]
  },
  {
   "cell_type": "markdown",
   "metadata": {},
   "source": [
    "#Add namespaces\n",
    "## Add a namespace for each one in the object model"
   ]
  },
  {
   "cell_type": "code",
   "execution_count": 3,
   "metadata": {
    "collapsed": false
   },
   "outputs": [],
   "source": [
    "prov = rdf.Namespace(\"http://www.w3.org/ns/prov#\")\n",
    "ncit = rdf.Namespace(\"http://ncitt.ncit.nih.gov/\")\n",
    "nidash = rdf.Namespace(\"http://purl.org/nidash/nidm/\")\n",
    "xnat = rdf.Namespace(\"https://www.nitrc.org/projects/fcon_1000/\")\n",
    "rdfs = rdf.Namespace(\"http://www.w3.org/2000/01/rdf-schema#\")\n",
    "dicom = rdf.Namespace(\"http://neurolex.org/wiki/Category:DICOM_term/\")"
   ]
  },
  {
   "cell_type": "markdown",
   "metadata": {},
   "source": [
    "#Bind namespaces to graph"
   ]
  },
  {
   "cell_type": "code",
   "execution_count": 4,
   "metadata": {
    "collapsed": false
   },
   "outputs": [
    {
     "data": {
      "text/plain": [
       "[('xml', rdflib.term.URIRef(u'http://www.w3.org/XML/1998/namespace')),\n",
       " ('ncit', rdflib.term.URIRef(u'http://ncitt.ncit.nih.gov/')),\n",
       " ('rdfs', rdflib.term.URIRef(u'http://www.w3.org/2000/01/rdf-schema#')),\n",
       " ('prov', rdflib.term.URIRef(u'http://www.w3.org/ns/prov#')),\n",
       " ('nidash', rdflib.term.URIRef(u'http://purl.org/nidash/nidm/')),\n",
       " ('rdf', rdflib.term.URIRef(u'http://www.w3.org/1999/02/22-rdf-syntax-ns#')),\n",
       " ('xsd', rdflib.term.URIRef(u'http://www.w3.org/2001/XMLSchema#')),\n",
       " ('xnat', rdflib.term.URIRef(u'https://www.nitrc.org/projects/fcon_1000/')),\n",
       " ('dicom',\n",
       "  rdflib.term.URIRef(u'http://neurolex.org/wiki/Category:DICOM_term/'))]"
      ]
     },
     "execution_count": 4,
     "metadata": {},
     "output_type": "execute_result"
    }
   ],
   "source": [
    "g.bind('prov', prov)\n",
    "g.bind('ncit', ncit)\n",
    "g.bind('nidash', nidash)\n",
    "g.bind('xnat',xnat)\n",
    "g.bind('dicom',dicom)\n",
    "list(g.namespaces())"
   ]
  },
  {
   "cell_type": "markdown",
   "metadata": {},
   "source": [
    "   #Create function to create element nodes"
   ]
  },
  {
   "cell_type": "code",
   "execution_count": 5,
   "metadata": {
    "collapsed": true
   },
   "outputs": [],
   "source": [
    "def nidm_add_assessment_data(g,row,acq_assessment_uri, assessment_datadict_uri, data_dictionary):\n",
    "    g.add((nidash[acq_assessment_uri], rdf.RDF.type, nidash[\"AssessmentAcquisitionObject\"]))\n",
    "    g.add((nidash[acq_assessment_uri], rdf.RDF.type, prov[\"Entity\"]))\n",
    "    g.add((nidash[acq_assessment_uri], rdf.RDF.type, nidash[assessment_uri]))\n",
    "    \n",
    "    #for each variable in the data dictionary, store it's acquired value from this data acquisition\n",
    "    for key in data_dictionary:\n",
    "        g.add((nidash[acq_assessment_uri], nidash[data_dictionary[key]], rdf.Literal(row[key])))\n",
    " "
   ]
  },
  {
   "cell_type": "code",
   "execution_count": 6,
   "metadata": {
    "collapsed": true
   },
   "outputs": [],
   "source": [
    "def nidm_create_assessment(g, assessment_uri, assessment_namem, description):\n",
    "    g.add((nidash[assessment_uri], rdf.RDF.type, nidash[\"DataStructure\"]))\n",
    "    g.add((nidash[assessment_uri], rdf.RDF.type, prov[\"Collection\"]))\n",
    "    g.add((nidash[assessment_uri],prov[\"label\"],rdf.Literal(assessment_name)))\n",
    "    g.add((nidash[assessment_uri],prov[\"description\"],rdf.Literal(description)))"
   ]
  },
  {
   "cell_type": "code",
   "execution_count": 7,
   "metadata": {
    "collapsed": true
   },
   "outputs": [],
   "source": [
    "def nidm_add_codedproperty(g,valueset_id, codedvalue_id, code, label):\n",
    "    g.add((nidash[codedvalue_id], rdf.RDF.type, nidash[\"CodedProperty\"]))\n",
    "    g.add((nidash[codedvalue_id], rdf.RDF.type, rdf.RDF.Property))\n",
    "    g.add((nidash[codedvalue_id],nidash[\"code\"], rdf.Literal(code)))\n",
    "    g.add((nidash[codedvalue_id], prov[\"label\"], rdf.Literal(label)))\n",
    "    g.add((nidash[valueset_id], prov[\"hadMember\"], nidash[codedvalue_id]))"
   ]
  },
  {
   "cell_type": "code",
   "execution_count": 8,
   "metadata": {
    "collapsed": true
   },
   "outputs": [],
   "source": [
    "def nidm_create_investigation(g, uid, expid,name):\n",
    "    g.add((nidash[uid], rdf.RDF.type, nidash[\"Investigation\"]))\n",
    "    g.add((nidash[uid], rdf.RDF.type, prov[\"Entity\"]))\n",
    "    g.add((nidash[uid], xnat[\"ProjectID\"], rdf.Literal(name)))\n",
    "def nidm_add_investigation_metadata(g, uid, name, description, baseuri):\n",
    "    g.add((nidash[uid], prov[\"label\"], rdf.Literal(name)))  \n",
    "    g.add((nidash[uid], rdfs[\"comment\"], rdf.Literal(description)))\n",
    "    g.add((nidash[uid], prov[\"atLocation\"], rdf.Literal(baseuri)))\n",
    "def nidm_add_session_person(g, uid, subjid, session_activity_uid, session_collection_uid):\n",
    "    g.add((nidash[uid], rdf.RDF.type, prov[\"Person\"]))\n",
    "    g.add((nidash[uid], ncit[\"subjectID\"], rdf.Literal(subjid)))\n",
    "    nidm_add_role(g, nidash[\"Participant\"], \"Participant\")\n",
    "    g.add((nidash[uid], prov[\"hadRole\"], nidash[\"Participant\"]))\n",
    "def nidm_add_role(g, uid, role):\n",
    "    g.add((uid, rdf.RDF.type, prov[\"Role\"]))\n",
    "    g.add((uid, prov[\"label\"], rdf.Literal(role)))"
   ]
  },
  {
   "cell_type": "markdown",
   "metadata": {},
   "source": [
    "#Read in CSV file and convert to RDF graph"
   ]
  },
  {
   "cell_type": "code",
   "execution_count": 9,
   "metadata": {
    "collapsed": false
   },
   "outputs": [],
   "source": [
    "#load spreadsheet\n",
    "filename_prefix = \"SimpleDataSingleSubject\"\n",
    "xls = pd.ExcelFile(filename_prefix+\".xlsx\")\n",
    "variables = xls.parse(0)"
   ]
  },
  {
   "cell_type": "markdown",
   "metadata": {},
   "source": [
    "#Create simple data dictionary"
   ]
  },
  {
   "cell_type": "code",
   "execution_count": 10,
   "metadata": {
    "collapsed": false
   },
   "outputs": [],
   "source": [
    "\n",
    "\n",
    "\n",
    "assessment_name=\"SimpleData\"\n",
    "assessment_uri = assessment_name + \"_\" + str(uuid.uuid1())\n",
    "\n",
    "#create assessment object for data dictionary\n",
    "nidm_create_assessment(g,assessment_uri, assessment_name, \"XNAT query response document\")\n",
    "\n",
    "\n",
    "#create a simple data dictionary to describe this spreadsheet\n",
    "#SimpleData has only age, gender, and handedness for interesting assessment measures\n",
    "#Age\n",
    "g.add((nidash[assessment_uri+\"_Age\"], rdf.RDF.type, nidash[\"DataElement\"]))\n",
    "g.add((nidash[assessment_uri+\"_Age\"], rdf.RDF.type, rdf.RDF.Property))\n",
    "g.add((nidash[assessment_uri+\"_Age\"], rdf.RDF.type, ncit[\"Age\"]))\n",
    "g.add((nidash[assessment_uri+\"_Age\"], prov[\"label\"], rdf.Literal(\"Age\")))\n",
    "g.add((nidash[assessment_uri+\"_Age\"], nidash[\"DataType\"], rdf.Literal(XSD.integer)))\n",
    "#make association with assessment\n",
    "g.add((nidash[assessment_uri],prov[\"hadMember\"], nidash[assessment_uri+\"_Age\"]))\n",
    "#Gender, a coded data element\n",
    "g.add((nidash[assessment_uri+\"_Gender\"], rdf.RDF.type, nidash[\"CodedDataElement\"]))\n",
    "g.add((nidash[assessment_uri+\"_Gender\"], rdf.RDF.type, rdf.RDF.Property))\n",
    "g.add((nidash[assessment_uri+\"_Gender\"], rdf.RDF.type, ncit[\"Gender\"]))\n",
    "g.add((nidash[assessment_uri+\"_Gender\"], prov[\"label\"], rdf.Literal(\"Gender\")))\n",
    "g.add((nidash[assessment_uri+\"_Gender\"], nidash[\"DataType\"], rdf.Literal(XSD.string)))\n",
    "g.add((nidash[assessment_uri+\"_Gender\"], nidash[\"ValueSet\"], nidash[assessment_uri+\"_Gender_ValueSet\"]))\n",
    "#create gender ValueSet collection\n",
    "g.add((nidash[assessment_uri+\"_Gender_ValueSet\"], rdf.RDF.type, prov[\"Collection\"]))\n",
    "g.add((nidash[assessment_uri+\"_Gender_ValueSet\"], rdf.RDF.type, nidash[\"ValueSet\"]))\n",
    "#make association with assessment\n",
    "g.add((nidash[assessment_uri],prov[\"hadMember\"], nidash[assessment_uri+\"_Gender\"]))\n",
    "\n",
    "#create coded-property for Genders\n",
    "#get unique geneders from data frame\n",
    "genders = variables['M/F'].unique()\n",
    "#for each unique gender create a coded property\n",
    "for gender in genders:\n",
    "    if gender=='M':\n",
    "        label='Male'\n",
    "    else:\n",
    "        label='Female'\n",
    "    nidm_add_codedproperty(g,assessment_uri+\"_Gender_ValueSet\", assessment_uri+\"_Gender_\"+gender, gender, label)\n",
    "\n",
    "#Handedness, another valueset\n",
    "g.add((nidash[assessment_uri+\"_Hand\"], rdf.RDF.type, nidash[\"CodedDataElement\"]))\n",
    "g.add((nidash[assessment_uri+\"_Hand\"], rdf.RDF.type, rdf.RDF.Property))\n",
    "g.add((nidash[assessment_uri+\"_Hand\"], rdf.RDF.type, ncit[\"HandDom\"]))\n",
    "g.add((nidash[assessment_uri+\"_Hand\"], prov[\"label\"], rdf.Literal(\"Handedness\")))\n",
    "g.add((nidash[assessment_uri+\"_Hand\"], nidash[\"DataType\"], rdf.Literal(XSD.string)))\n",
    "g.add((nidash[assessment_uri+\"_Hand\"], nidash[\"ValueSet\"], nidash[assessment_uri+\"_Hand_ValueSet\"]))\n",
    "#make association with assessment\n",
    "g.add((nidash[assessment_uri],prov[\"hadMember\"], nidash[assessment_uri+\"_Hand\"]))\n",
    "#create coded-property for Handedness\n",
    "#create hand ValueSet collection\n",
    "g.add((nidash[assessment_uri+\"_Hand_ValueSet\"], rdf.RDF.type, prov[\"Collection\"]))\n",
    "g.add((nidash[assessment_uri+\"_Hand_ValueSet\"], rdf.RDF.type, nidash[\"ValueSet\"]))\n",
    "#get unique hands from data frame\n",
    "hands = variables['Hand'].unique()\n",
    "#for each unique gender create a coded property\n",
    "for hand in hands:\n",
    "      nidm_add_codedproperty(g,assessment_uri+\"_Hand_ValueSet\", assessment_uri+\"_Hand_\"+hand, hand, hand)\n",
    "\n",
    "#save SimpleData data dictionary variable URIs with column header mappings for modeling acquired data\n",
    "data_dict = {'Age': assessment_uri+\"_Age\", 'Hand' : assessment_uri+\"_Hand\", 'M/F': assessment_uri+\"_Gender\"}\n",
    "\n",
    "    "
   ]
  },
  {
   "cell_type": "markdown",
   "metadata": {},
   "source": [
    "#Parse/model imaging and acquired assessment data from file"
   ]
  },
  {
   "cell_type": "code",
   "execution_count": 11,
   "metadata": {
    "collapsed": false
   },
   "outputs": [],
   "source": [
    "#create investigation dictionary in case there are multiple projects in spreadsheet\n",
    "#create investigation collection and activity dictionaries as well\n",
    "inv_dict = {}\n",
    "inv_collect_dict = {}\n",
    "inv_activity_dict = {}\n",
    "scanner_dict = {}\n",
    "\n",
    "#create subject dictionary in case there are multiple measurements from a subject\n",
    "subj_dict = {}\n",
    "\n",
    "#iterate over the variables in the data file\n",
    "for index, row in variables.iterrows():\n",
    "\n",
    "    #if this is a new investigation then add the UUID to dictionary and create entity\n",
    "    if not inv_dict.has_key(row[\"Project\"]):\n",
    "        #create investigation UUID\n",
    "        inv_uri = \"Investigation_\" + str(uuid.uuid1())\n",
    "        #keep UUID -> uniqueid mappings for experiments in dictionary in case there are multiple experiments\n",
    "        inv_dict[row[\"Project\"]] = inv_uri\n",
    "        #add investigation using HID experiment ID\n",
    "        nidm_create_investigation(g, inv_uri,inv_dict[row[\"Project\"]],row[\"Project\"])\n",
    "        #add other metadata\n",
    "        nidm_add_investigation_metadata(g, inv_uri, row[\"Project\"], \"1000 Functional Connectomes Project (FCP)\", \"http://fcon_1000.projects.nitrc.org/\")\n",
    "\n",
    "        #create an investigation collection / investigation activity\n",
    "        collect_uri = \"InvestigationCollection_\" + str(uuid.uuid1())\n",
    "        inv_collect_dict[row[\"Project\"]] = collect_uri\n",
    "        #add collection/activities to graph\n",
    "        g.add((nidash[collect_uri], rdf.RDF.type, prov[\"Collection\"]))\n",
    "        #add label for debugging/model evaluation\n",
    "        g.add((nidash[collect_uri],prov[\"label\"], rdf.Literal(\"Investigation Collection\")))\n",
    "        #associate investigation activity with collection\n",
    "        g.add((nidash[inv_uri], prov[\"wasAssociatedWith\"], nidash[collect_uri]))\n",
    "    else:\n",
    "        inv_uri = inv_dict[row[\"Project\"]]\n",
    "       \n",
    "    activity_uri = \"AssessmentCollectionActivity_\"+str(uuid.uuid1())\n",
    "    inv_activity_dict[row[\"Project\"]] = activity_uri\n",
    "    #add collection/activities to graph\n",
    "    g.add((nidash[activity_uri], rdf.RDF.type, prov[\"Activity\"]))\n",
    "    #add label for debugging/model evaluation\n",
    "    g.add((nidash[activity_uri],prov[\"label\"], rdf.Literal(\"Assessment Data Collection Activity\")))\n",
    "    #associate assessment collection activity with investigation collection\n",
    "    g.add((nidash[collect_uri],prov[\"hadMember\"],nidash[activity_uri]))\n",
    "    \n",
    "    #add elements to RDF graph for variable definitions\n",
    "    acq_assessment_uri = assessment_name + \"_\" + str(uuid.uuid1())\n",
    "    nidm_add_assessment_data(g,row,acq_assessment_uri, assessment_uri, data_dict) \n",
    "    \n",
    "    #associate assessment data with project acquisition activity\n",
    "    g.add((nidash[acq_assessment_uri], prov[\"wasGeneratedBy\"], nidash[activity_uri]))\n",
    "    \n",
    "    #if new subject add subject entity and link to project collection / activity\n",
    "    if not subj_dict.has_key(row[\"Subject\"]):\n",
    "        #get subjectID and store in NIDM-Experiment graph\n",
    "        subj_uid = row[\"Subject\"] + \"_\" + str(uuid.uuid1())\n",
    "        subj_dict[row[\"Subject\"]] = subj_uid\n",
    "        nidm_add_session_person(g,subj_uid, row[\"Subject\"], inv_activity_dict[row[\"Project\"]],inv_collect_dict[row[\"Project\"]])\n",
    "        #associate person with these session collections/activities\n",
    "        g.add((nidash[inv_collect_dict[row[\"Project\"]]], prov[\"wasAttributedTo\"], nidash[subj_uid]))\n",
    "        g.add((nidash[inv_activity_dict[row[\"Project\"]]], prov[\"wasAssociatedWith\"], nidash[subj_uid]))\n",
    "    else:\n",
    "        subj_uid = subj_dict[row[\"Subject\"]]\n",
    "     \n",
    "    #associate subject information with acquisition activity\n",
    "    #g.add((nidash[activity_uri],prov[\"Used\"], nidash[subj_dict[row[\"Subject\"]]]))\n",
    "    \n",
    "    #associate assessment data with investigation collection\n",
    "    g.add((nidash[inv_collect_dict[row[\"Project\"]]],prov[\"hadMember\"], nidash[acq_assessment_uri]))\n",
    "    \n",
    "    \n",
    "    #Imaging data\n",
    "    #create acquisition activity\n",
    "    activity_uri = \"ImagingCollectionActivity_\"+str(uuid.uuid1())\n",
    "    g.add((nidash[activity_uri], rdf.RDF.type, prov[\"Activity\"]))\n",
    "    #associate with investigation collection\n",
    "    g.add((nidash[inv_collect_dict[row[\"Project\"]]],prov[\"hadMember\"], nidash[activity_uri]))\n",
    "    #create scanner agent if not already created, note scanners key'd by Site+FieldStrength\n",
    "    if not scanner_dict.has_key(row[\"Acquisition Site\"]+'_'+row[\"Field Strength\"]):\n",
    "        scanner_uri = row[\"Acquisition Site\"]+'_'+row[\"Field Strength\"]+'_'+str(uuid.uuid1())\n",
    "        scanner_dict[row[\"Acquisition Site\"]+'_'+row[\"Field Strength\"]] = scanner_uri\n",
    "        g.add((nidash[scanner_uri],rdf.RDF.type, prov[\"Agent\"]))\n",
    "        #add scanner metadata\n",
    "        g.add((nidash[scanner_uri],dicom[\"MagneticFieldStrength\"],rdf.Literal(row[\"Field Strength\"])))\n",
    "        g.add((nidash[scanner_uri],ncit[\"SiteID\"], rdf.Literal(row[\"Acquisition Site\"])))\n",
    "    #associate scanner agent with acquisition object\n",
    "    g.add((nidash[activity_uri],prov[\"Used\"], nidash[scanner_dict[row[\"Acquisition Site\"]+'_'+row[\"Field Strength\"]]]))\n",
    "    #associate subject agent with acquisition object\n",
    "    g.add((nidash[activity_uri],prov[\"wasAssociatedWith\"], nidash[subj_dict[row[\"Subject\"]]]))\n",
    "    \n",
    "    #entity for image\n",
    "    image_uri = \"MRImage_\"+str(uuid.uuid1())\n",
    "    g.add((nidash[image_uri], rdf.RDF.type, prov[\"Entity\"]))\n",
    "    g.add((nidash[image_uri], prov[\"atLocation\"], rdf.URIRef(row[\"File Path\"])))\n",
    "    #associate image acquisition entity with acquisition activity\n",
    "    g.add((nidash[image_uri], prov[\"wasGeneratedBy\"], nidash[activity_uri]))"
   ]
  },
  {
   "cell_type": "code",
   "execution_count": 12,
   "metadata": {
    "collapsed": false
   },
   "outputs": [
    {
     "name": "stdout",
     "output_type": "stream",
     "text": [
      "@prefix dicom: <http://neurolex.org/wiki/Category:DICOM_term/> .\n",
      "@prefix ncit: <http://ncitt.ncit.nih.gov/> .\n",
      "@prefix nidash: <http://purl.org/nidash/nidm/> .\n",
      "@prefix prov: <http://www.w3.org/ns/prov#> .\n",
      "@prefix rdf: <http://www.w3.org/1999/02/22-rdf-syntax-ns#> .\n",
      "@prefix rdfs: <http://www.w3.org/2000/01/rdf-schema#> .\n",
      "@prefix xml: <http://www.w3.org/XML/1998/namespace> .\n",
      "@prefix xnat: <https://www.nitrc.org/projects/fcon_1000/> .\n",
      "@prefix xsd: <http://www.w3.org/2001/XMLSchema#> .\n",
      "\n",
      "nidash:Investigation_3a498126-4539-11e6-9c60-6c4008b8f03e a nidash:Investigation,\n",
      "        prov:Entity ;\n",
      "    rdfs:comment \"1000 Functional Connectomes Project (FCP)\" ;\n",
      "    prov:atLocation \"http://fcon_1000.projects.nitrc.org/\" ;\n",
      "    prov:label \"fcon_1000\" ;\n",
      "    prov:wasAssociatedWith nidash:InvestigationCollection_3a499223-4539-11e6-b279-6c4008b8f03e ;\n",
      "    xnat:ProjectID \"fcon_1000\" .\n",
      "\n",
      "nidash:MRImage_3a49d354-4539-11e6-8f8e-6c4008b8f03e a prov:Entity ;\n",
      "    prov:atLocation <http://www.nitrc.org/ir/data/experiments/xnat_E00005/scans/anat_mprage_anonymized/resources/11924/files/scan_mprage_anonymized.nii.gz> ;\n",
      "    prov:wasGeneratedBy nidash:ImagingCollectionActivity_3a49c051-4539-11e6-91db-6c4008b8f03e .\n",
      "\n",
      "nidash:AnnArbor_3T_3a49c6a3-4539-11e6-870b-6c4008b8f03e a prov:Agent ;\n",
      "    ncit:SiteID \"AnnArbor\" ;\n",
      "    dicom:MagneticFieldStrength \"3T\" .\n",
      "\n",
      "nidash:InvestigationCollection_3a499223-4539-11e6-b279-6c4008b8f03e a prov:Collection ;\n",
      "    prov:hadMember nidash:AssessmentCollectionActivity_3a4998d1-4539-11e6-bef5-6c4008b8f03e,\n",
      "        nidash:ImagingCollectionActivity_3a49c051-4539-11e6-91db-6c4008b8f03e,\n",
      "        nidash:SimpleData_3a499f4f-4539-11e6-8943-6c4008b8f03e ;\n",
      "    prov:label \"Investigation Collection\" ;\n",
      "    prov:wasAttributedTo nidash:AnnArbor_sub16960_3a49af3d-4539-11e6-a457-6c4008b8f03e .\n",
      "\n",
      "nidash:Participant a prov:Role ;\n",
      "    prov:label \"Participant\" .\n",
      "\n",
      "nidash:SimpleData_3a38ed47-4539-11e6-8b25-6c4008b8f03e a nidash:DataStructure,\n",
      "        prov:Collection ;\n",
      "    prov:description \"XNAT query response document\" ;\n",
      "    prov:hadMember nidash:SimpleData_3a38ed47-4539-11e6-8b25-6c4008b8f03e_Age,\n",
      "        nidash:SimpleData_3a38ed47-4539-11e6-8b25-6c4008b8f03e_Gender,\n",
      "        nidash:SimpleData_3a38ed47-4539-11e6-8b25-6c4008b8f03e_Hand ;\n",
      "    prov:label \"SimpleData\" .\n",
      "\n",
      "nidash:SimpleData_3a38ed47-4539-11e6-8b25-6c4008b8f03e_Age a ncit:Age,\n",
      "        nidash:DataElement,\n",
      "        rdf:Property ;\n",
      "    nidash:DataType \"http://www.w3.org/2001/XMLSchema#integer\" ;\n",
      "    prov:label \"Age\" .\n",
      "\n",
      "nidash:SimpleData_3a38ed47-4539-11e6-8b25-6c4008b8f03e_Gender a ncit:Gender,\n",
      "        nidash:CodedDataElement,\n",
      "        rdf:Property ;\n",
      "    nidash:DataType \"http://www.w3.org/2001/XMLSchema#string\" ;\n",
      "    nidash:ValueSet nidash:SimpleData_3a38ed47-4539-11e6-8b25-6c4008b8f03e_Gender_ValueSet ;\n",
      "    prov:label \"Gender\" .\n",
      "\n",
      "nidash:SimpleData_3a38ed47-4539-11e6-8b25-6c4008b8f03e_Gender_M a nidash:CodedProperty,\n",
      "        rdf:Property ;\n",
      "    nidash:code \"M\" ;\n",
      "    prov:label \"Male\" .\n",
      "\n",
      "nidash:SimpleData_3a38ed47-4539-11e6-8b25-6c4008b8f03e_Gender_ValueSet a nidash:ValueSet,\n",
      "        prov:Collection ;\n",
      "    prov:hadMember nidash:SimpleData_3a38ed47-4539-11e6-8b25-6c4008b8f03e_Gender_M .\n",
      "\n",
      "nidash:SimpleData_3a38ed47-4539-11e6-8b25-6c4008b8f03e_Hand a ncit:HandDom,\n",
      "        nidash:CodedDataElement,\n",
      "        rdf:Property ;\n",
      "    nidash:DataType \"http://www.w3.org/2001/XMLSchema#string\" ;\n",
      "    nidash:ValueSet nidash:SimpleData_3a38ed47-4539-11e6-8b25-6c4008b8f03e_Hand_ValueSet ;\n",
      "    prov:label \"Handedness\" .\n",
      "\n",
      "nidash:SimpleData_3a38ed47-4539-11e6-8b25-6c4008b8f03e_Hand_ValueSet a nidash:ValueSet,\n",
      "        prov:Collection ;\n",
      "    prov:hadMember nidash:SimpleData_3a38ed47-4539-11e6-8b25-6c4008b8f03e_Hand_right .\n",
      "\n",
      "nidash:SimpleData_3a38ed47-4539-11e6-8b25-6c4008b8f03e_Hand_right a nidash:CodedProperty,\n",
      "        rdf:Property ;\n",
      "    nidash:code \"right\" ;\n",
      "    prov:label \"right\" .\n",
      "\n",
      "nidash:SimpleData_3a499f4f-4539-11e6-8943-6c4008b8f03e a nidash:AssessmentAcquisitionObject,\n",
      "        nidash:SimpleData_3a38ed47-4539-11e6-8b25-6c4008b8f03e,\n",
      "        prov:Entity ;\n",
      "    nidash:SimpleData_3a38ed47-4539-11e6-8b25-6c4008b8f03e_Age 13 ;\n",
      "    nidash:SimpleData_3a38ed47-4539-11e6-8b25-6c4008b8f03e_Gender \"M\" ;\n",
      "    nidash:SimpleData_3a38ed47-4539-11e6-8b25-6c4008b8f03e_Hand \"right\" ;\n",
      "    prov:wasGeneratedBy nidash:AssessmentCollectionActivity_3a4998d1-4539-11e6-bef5-6c4008b8f03e .\n",
      "\n",
      "nidash:AssessmentCollectionActivity_3a4998d1-4539-11e6-bef5-6c4008b8f03e a prov:Activity ;\n",
      "    prov:label \"Assessment Data Collection Activity\" ;\n",
      "    prov:wasAssociatedWith nidash:AnnArbor_sub16960_3a49af3d-4539-11e6-a457-6c4008b8f03e .\n",
      "\n",
      "nidash:ImagingCollectionActivity_3a49c051-4539-11e6-91db-6c4008b8f03e a prov:Activity ;\n",
      "    prov:Used nidash:AnnArbor_3T_3a49c6a3-4539-11e6-870b-6c4008b8f03e ;\n",
      "    prov:wasAssociatedWith nidash:AnnArbor_sub16960_3a49af3d-4539-11e6-a457-6c4008b8f03e .\n",
      "\n",
      "nidash:AnnArbor_sub16960_3a49af3d-4539-11e6-a457-6c4008b8f03e a prov:Person ;\n",
      "    ncit:subjectID \"AnnArbor_sub16960\" ;\n",
      "    prov:hadRole nidash:Participant .\n",
      "\n",
      "\n"
     ]
    }
   ],
   "source": [
    "print g.serialize(format='turtle')"
   ]
  },
  {
   "cell_type": "markdown",
   "metadata": {},
   "source": [
    "#Save RDF Turtle file to disk"
   ]
  },
  {
   "cell_type": "code",
   "execution_count": 13,
   "metadata": {
    "collapsed": true
   },
   "outputs": [],
   "source": [
    "with open(filename_prefix+\".ttl\",'w') as f:\n",
    "    f.write(g.serialize(format='turtle'))"
   ]
  },
  {
   "cell_type": "markdown",
   "metadata": {},
   "source": [
    "#Create RDF graph from DOT file"
   ]
  },
  {
   "cell_type": "code",
   "execution_count": 14,
   "metadata": {
    "collapsed": true
   },
   "outputs": [],
   "source": [
    "from rdflib.tools import rdf2dot\n",
    "with open(filename_prefix+\".dot\",'w') as f:\n",
    "    s = rdf2dot.rdf2dot(g, f)"
   ]
  },
  {
   "cell_type": "code",
   "execution_count": 15,
   "metadata": {
    "collapsed": false
   },
   "outputs": [
    {
     "data": {
      "text/plain": [
       "True"
      ]
     },
     "execution_count": 15,
     "metadata": {},
     "output_type": "execute_result"
    }
   ],
   "source": [
    "import pydot\n",
    "g = pydot.graph_from_dot_file(filename_prefix+\".dot\")\n",
    "g.write_png(filename_prefix+'.png')"
   ]
  },
  {
   "cell_type": "markdown",
   "metadata": {
    "collapsed": true
   },
   "source": [
    "#Sample Queries"
   ]
  },
  {
   "cell_type": "code",
   "execution_count": 16,
   "metadata": {
    "collapsed": true
   },
   "outputs": [],
   "source": [
    "import rdflib as rdf \n",
    "#reload data\n",
    "g=rdf.Graph().parse(\"SimpleData.ttl\",format='turtle')"
   ]
  },
  {
   "cell_type": "code",
   "execution_count": 19,
   "metadata": {
    "collapsed": false,
    "scrolled": true
   },
   "outputs": [
    {
     "name": "stdout",
     "output_type": "stream",
     "text": [
      "Age \t Image URL\n",
      "\n",
      "13 \t http://www.nitrc.org/ir/data/experiments/xnat_E00975/scans/anat_mprage_anonymized/resources/6981/files/scan_mprage_anonymized.nii.gz\n",
      "13 \t http://www.nitrc.org/ir/data/experiments/xnat_E00013/scans/anat_mprage_anonymized/resources/11948/files/scan_mprage_anonymized.nii.gz\n",
      "13 \t http://www.nitrc.org/ir/data/experiments/xnat_E00016/scans/anat_mprage_anonymized/resources/11956/files/scan_mprage_anonymized.nii.gz\n",
      "13 \t http://www.nitrc.org/ir/data/experiments/xnat_E00005/scans/anat_mprage_anonymized/resources/11924/files/scan_mprage_anonymized.nii.gz\n",
      "13 \t http://www.nitrc.org/ir/data/experiments/xnat_E01002/scans/anat_mprage_anonymized/resources/7062/files/scan_mprage_anonymized.nii.gz\n",
      "14 \t http://www.nitrc.org/ir/data/experiments/xnat_E00981/scans/anat_mprage_anonymized/resources/6999/files/scan_mprage_anonymized.nii.gz\n",
      "14 \t http://www.nitrc.org/ir/data/experiments/xnat_E00974/scans/anat_mprage_anonymized/resources/6978/files/scan_mprage_anonymized.nii.gz\n",
      "14 \t http://www.nitrc.org/ir/data/experiments/xnat_E00024/scans/anat_mprage_anonymized/resources/11979/files/scan_mprage_anonymized.nii.gz\n",
      "14 \t http://www.nitrc.org/ir/data/experiments/xnat_E00022/scans/anat_mprage_anonymized/resources/11973/files/scan_mprage_anonymized.nii.gz\n",
      "14 \t http://www.nitrc.org/ir/data/experiments/xnat_E00011/scans/anat_mprage_anonymized/resources/11942/files/scan_mprage_anonymized.nii.gz\n",
      "15 \t http://www.nitrc.org/ir/data/experiments/xnat_E00023/scans/anat_mprage_anonymized/resources/11976/files/scan_mprage_anonymized.nii.gz\n",
      "15 \t http://www.nitrc.org/ir/data/experiments/xnat_E00976/scans/anat_mprage_anonymized/resources/6984/files/scan_mprage_anonymized.nii.gz\n",
      "15 \t http://www.nitrc.org/ir/data/experiments/xnat_E00025/scans/anat_mprage_anonymized/resources/11982/files/scan_mprage_anonymized.nii.gz\n",
      "15 \t http://www.nitrc.org/ir/data/experiments/xnat_E00939/scans/anat_mprage_anonymized/resources/14866/files/scan_mprage_anonymized.nii.gz\n",
      "15 \t http://www.nitrc.org/ir/data/experiments/xnat_E00994/scans/anat_mprage_anonymized/resources/7038/files/scan_mprage_anonymized.nii.gz\n",
      "15 \t http://www.nitrc.org/ir/data/experiments/xnat_E00007/scans/anat_mprage_anonymized/resources/11930/files/scan_mprage_anonymized.nii.gz\n",
      "15 \t http://www.nitrc.org/ir/data/experiments/xnat_E00958/scans/anat_mprage_anonymized/resources/14923/files/scan_mprage_anonymized.nii.gz\n",
      "15 \t http://www.nitrc.org/ir/data/experiments/xnat_E00983/scans/anat_mprage_anonymized/resources/7005/files/scan_mprage_anonymized.nii.gz\n"
     ]
    }
   ],
   "source": [
    "#get image URLs for subjects Age > 12\n",
    "qres = g.query (\n",
    "    \"\"\"select ?age ?img_loc\n",
    "    where {\n",
    "        ?agedd a ncit:Age .\n",
    "        ?entity ?agedd ?age ;\n",
    "            prov:wasGeneratedBy/prov:wasAssociatedWith ?subject .\n",
    "        ?img_entity prov:wasGeneratedBy/prov:wasAssociatedWith ?subject ;\n",
    "            prov:atLocation ?img_loc .\n",
    "        filter (?age > 12)     \n",
    "    }\n",
    "    order by ?age\n",
    "    \"\"\")\n",
    "print(\"Age \\t Image URL\\n\")\n",
    "for row in qres:\n",
    "    print (\"%s \\t %s\" % row)"
   ]
  },
  {
   "cell_type": "code",
   "execution_count": 41,
   "metadata": {
    "collapsed": false
   },
   "outputs": [
    {
     "name": "stdout",
     "output_type": "stream",
     "text": [
      "Site \t\t SubjectID \t\t Age \t Gender \t Hand \n",
      "\n",
      "AnnArbor \t AnnArbor_sub46727  \t 13 \t F \t right\n",
      "AnnArbor \t AnnArbor_sub86367  \t 15 \t M \t right\n",
      "AnnArbor \t AnnArbor_sub82334  \t 14 \t M \t right\n",
      "AnnArbor \t AnnArbor_sub96621  \t 15 \t M \t right\n",
      "AnnArbor \t AnnArbor_sub38614  \t 14 \t M \t right\n",
      "AnnArbor \t AnnArbor_sub20317  \t 15 \t M \t right\n",
      "AnnArbor \t AnnArbor_sub49687  \t 13 \t M \t left\n",
      "AnnArbor \t AnnArbor_sub16960  \t 13 \t M \t right\n",
      "AnnArbor \t AnnArbor_sub87745  \t 14 \t M \t right\n"
     ]
    }
   ],
   "source": [
    "#Get Handedness, Gender, Age, and Image URL for subjects scanned in AnnArbor\n",
    "qres = g.query (\n",
    "    \"\"\"select ?site ?subject ?age ?gender ?hand\n",
    "    where {\n",
    "        ?age_type a ncit:Age .\n",
    "        ?gender_type a ncit:Gender .\n",
    "        ?hand_type a ncit:HandDom .\n",
    "        ?entity ?age_type ?age ;\n",
    "            ?gender_type ?gender ;\n",
    "            ?hand_type ?hand ;\n",
    "            prov:wasGeneratedBy/prov:wasAssociatedWith ?subject_entity .\n",
    "        ?subject_entity ncit:subjectID ?subject .\n",
    "        ?activity prov:wasAssociatedWith ?subject_entity ;\n",
    "            prov:Used ?site_entity .\n",
    "        ?site_entity ncit:SiteID ?site .\n",
    "        filter (?site = 'AnnArbor')\n",
    "    } \"\"\")\n",
    "\n",
    "print(\"Site \\t\\t SubjectID \\t\\t Age \\t Gender \\t Hand \\n\")\n",
    "for row in qres:\n",
    "    print (\"%s \\t %s  \\t %s \\t %s \\t %s\" % row)"
   ]
  },
  {
   "cell_type": "code",
   "execution_count": null,
   "metadata": {
    "collapsed": true
   },
   "outputs": [],
   "source": []
  },
  {
   "cell_type": "code",
   "execution_count": null,
   "metadata": {
    "collapsed": true
   },
   "outputs": [],
   "source": []
  }
 ],
 "metadata": {
  "kernelspec": {
   "display_name": "Python 2",
   "language": "python",
   "name": "python2"
  },
  "language_info": {
   "codemirror_mode": {
    "name": "ipython",
    "version": 2
   },
   "file_extension": ".py",
   "mimetype": "text/x-python",
   "name": "python",
   "nbconvert_exporter": "python",
   "pygments_lexer": "ipython2",
   "version": "2.7.11"
  }
 },
 "nbformat": 4,
 "nbformat_minor": 0
}
